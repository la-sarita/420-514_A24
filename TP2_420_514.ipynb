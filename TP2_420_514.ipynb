{
  "nbformat": 4,
  "nbformat_minor": 0,
  "metadata": {
    "colab": {
      "provenance": [],
      "mount_file_id": "1yt4AiyrmNEiQW5MzEsd4nhFfAS17uCIS",
      "authorship_tag": "ABX9TyM3GkFgEDiQB47yKjGHu7B3",
      "include_colab_link": true
    },
    "kernelspec": {
      "name": "python3",
      "display_name": "Python 3"
    },
    "language_info": {
      "name": "python"
    }
  },
  "cells": [
    {
      "cell_type": "markdown",
      "metadata": {
        "id": "view-in-github",
        "colab_type": "text"
      },
      "source": [
        "<a href=\"https://colab.research.google.com/github/la-sarita/420-514_A24/blob/main/TP2_420_514.ipynb\" target=\"_parent\"><img src=\"https://colab.research.google.com/assets/colab-badge.svg\" alt=\"Open In Colab\"/></a>"
      ]
    },
    {
      "cell_type": "markdown",
      "source": [
        "# **420-514 - Travail Pratique 2**              \n",
        "\n",
        "## **Informations de l'étudiant :**\n",
        "### Nom :\n",
        "### Prenom :\n",
        "### Numero DA :\n",
        "### Session : A24"
      ],
      "metadata": {
        "id": "Rz2TjAq5miC4"
      }
    },
    {
      "cell_type": "markdown",
      "source": [
        "## **Instructions**\n",
        "\n",
        "* Faites le travail individuellement.\n",
        "* La remise du code se fait Léa avant la date limite indiquée dans la boite de remise.\n",
        "* La présentation du code est évaluée.\n",
        "\n",
        "## **Contexte**\n",
        "\n",
        "Vous travaillez pour une entreprise qui s'intéresse à la performance des entreprises dans plusieurs secteurs et veut mieux comprendre la répartition des entreprises, leur croissance, et les tendances globales du marché. Vous utiliserez la base de données MongoDB **`sample_training`**, qui contient plusieurs collections, notamment **`companies`**, **`grades`**, **`inspections`**, et **`zips`**. Ces collections regroupent des informations sur des entreprises, des inspections, des performances académiques et des données géographiques.\n",
        "\n",
        "L'objectif de ce projet est de récupérer des informations sur une entreprise à partir d'une base de données MongoDB. Le travail se déroule en trois étapes principales :\n",
        "\n",
        "1. Extraction des données à partir de MongoDB.\n",
        "2. Transformation des données pour obtenir les informations pertinentes à partir de contrôles dynamiques de sélection.\n",
        "3. Affichage des résultats sous forme de graphiques et de visualisations."
      ],
      "metadata": {
        "id": "nmgsSc1F8Uk0"
      }
    },
    {
      "cell_type": "markdown",
      "source": [
        "### **Étape 1 : Extraction des données**\n",
        "#### **Connexion à la base de donnée MongoDB**\n",
        "\n",
        "Il faut charger la base de données MongoDB dans un cluster créé avec votre compte _Atlas_. Les informations de connection sont comme les suivantes:\n",
        "\n",
        "* user : 420-514_A24\n",
        "* password : Str0ng_Passw0rd_420-514\n",
        "* database : sample_training\n",
        "* host : 420-514-tp2.g8hmr.mongodb.net\n",
        "* collections : companies, grades, inspections et zips\n",
        "\n",
        "Vous devez vous connecter à la base de données, importer et fusionnez les informations des tables dans un Dataframe de pandas."
      ],
      "metadata": {
        "id": "rTIjo8PdyiB5"
      }
    },
    {
      "cell_type": "code",
      "source": [
        "!pip install pymongo"
      ],
      "metadata": {
        "id": "5l63wugMjFjM"
      },
      "execution_count": null,
      "outputs": []
    },
    {
      "cell_type": "code",
      "source": [
        "from pymongo import MongoClient\n",
        "import pandas as pd\n",
        "import matplotlib.pyplot as plt\n",
        "import numpy as np\n",
        "import ipywidgets as widgets\n",
        "from ipywidgets import interact"
      ],
      "metadata": {
        "id": "6HmZbmv5nkkN"
      },
      "execution_count": null,
      "outputs": []
    },
    {
      "cell_type": "code",
      "source": [],
      "metadata": {
        "id": "mv_JMxqZy22k"
      },
      "execution_count": null,
      "outputs": []
    },
    {
      "cell_type": "markdown",
      "source": [
        "\n",
        "#### Tâche 1.1 : Exploration des données\n",
        "- Utilisez la collection **`companies`** pour obtenir un aperçu général des données disponibles. Affichez les 10 premiers documents.\n",
        "  - **MongoDB exemple de requête** :\n",
        "    ```python\n",
        "    db.companies.find().limit(10)\n",
        "    ```\n",
        "  - Décrivez brièvement la structure des documents (champs et types de données).\n"
      ],
      "metadata": {
        "id": "MInY7R7i66TT"
      }
    },
    {
      "cell_type": "code",
      "source": [],
      "metadata": {
        "id": "IwKxhEp-68nn"
      },
      "execution_count": null,
      "outputs": []
    },
    {
      "cell_type": "markdown",
      "source": [
        "\n",
        "#### Tâche 1.2 : Extraction par secteur d'activité\n",
        "- Récupérez la répartition des entreprises par secteur d'activité. Classez les résultats par le nombre d'entreprises par secteur de manière décroissante.\n",
        "  \n",
        "  - Affichez les 5 secteurs avec le plus grand nombre d'entreprises."
      ],
      "metadata": {
        "id": "uGOkzLR4689w"
      }
    },
    {
      "cell_type": "code",
      "source": [],
      "metadata": {
        "id": "aZzL-h3L7BD2"
      },
      "execution_count": null,
      "outputs": []
    },
    {
      "cell_type": "markdown",
      "source": [
        "\n",
        "#### Tâche 1.3 : Extraction des entreprises fondées après l'an 2000\n",
        "- Récupérez la liste des entreprises fondées après l'an 2000 et triées par année de fondation."
      ],
      "metadata": {
        "id": "RFV7vNcB7BZ1"
      }
    },
    {
      "cell_type": "code",
      "source": [],
      "metadata": {
        "id": "RC1rmmOb7C7V"
      },
      "execution_count": null,
      "outputs": []
    },
    {
      "cell_type": "markdown",
      "source": [
        "### **Étape 2 : Transformation des données**\n",
        "\n",
        "#### Tâche 2.1 : Répartition géographique des entreprises\n",
        "- Transformez les données pour analyser la répartition des entreprises par pays. Regroupez les entreprises par pays et comptez leur nombre pour chaque pays."
      ],
      "metadata": {
        "id": "q4BlgcVGnOaJ"
      }
    },
    {
      "cell_type": "code",
      "source": [],
      "metadata": {
        "id": "nfXT6bAt1UJq"
      },
      "execution_count": null,
      "outputs": []
    },
    {
      "cell_type": "markdown",
      "source": [
        "#### Tâche 2.2 : Analyse des entreprises par taille\n",
        "- Utilisez les informations sur le nombre d’employés pour identifier les entreprises ayant plus de 1000 employés. Transformez les données pour regrouper les entreprises par tranche d'effectif (ex. : 0-100 employés, 101-500 employés, etc.).\n",
        "Puis sauvegarder le résultat dans un fichier `tache2_2.csv`"
      ],
      "metadata": {
        "id": "jJBNzok-7LOu"
      }
    },
    {
      "cell_type": "code",
      "source": [],
      "metadata": {
        "id": "OXzc-hvq1XTX"
      },
      "execution_count": null,
      "outputs": []
    },
    {
      "cell_type": "markdown",
      "source": [
        "#### Tâche 2.3 : Analyse temporelle\n",
        "- Transformez les données pour analyser l'évolution de la création d'entreprises au fil du temps. Affichez le nombre d'entreprises fondées chaque année, trié par année. Puis sauvegarder le résultat dans un fichier `tache2_3.csv`"
      ],
      "metadata": {
        "id": "5UiLL7aw7NQp"
      }
    },
    {
      "cell_type": "code",
      "source": [],
      "metadata": {
        "id": "jb-mkrCCk_RD"
      },
      "execution_count": null,
      "outputs": []
    },
    {
      "cell_type": "markdown",
      "source": [
        "### **Étape 3 : Visualisation des données**\n",
        "\n",
        "#### Tâche 3.1 : Graphique de la répartition des entreprises par secteur\n",
        "- Utilisez un outil de visualisation tel que **Matplotlib** pour créer un graphique à barres représentant la répartition des entreprises par secteur.\n",
        "- Nous allons ajouter un **widget de sélection** permettant à l'utilisateur de filtrer les données en fonction du secteur d'activité qu'il souhaite visualiser.Le widget de type \"dropdown\" permet à l'utilisateur de choisir un secteur d'activité.\n",
        "- Le graphique à barres est mis à jour en fonction du secteur sélectionné."
      ],
      "metadata": {
        "id": "N5M8cA6l5kvt"
      }
    },
    {
      "cell_type": "code",
      "source": [],
      "metadata": {
        "id": "c4Gmtmp77x3D"
      },
      "execution_count": null,
      "outputs": []
    },
    {
      "cell_type": "markdown",
      "source": [
        "#### Tâche 3.2 : Graphique de la répartition géographique\n",
        "- Créez un diagramme circulaire (pie chart) pour visualiser la répartition des entreprises par pays en affichant les 5 pays les plus représentés.\n",
        "- Ajoutons un **widget multi-sélection** pour permettre à l'utilisateur de sélectionner plusieurs pays et d'afficher un diagramme circulaire (pie chart) montrant la répartition des entreprises dans ces pays. L'utilisateur peut sélectionner plusieurs pays à l'aide d'un widget \"SelectMultiple\".\n",
        "- Le diagramme circulaire est mis à jour pour afficher la répartition des entreprises dans les pays sélectionnés."
      ],
      "metadata": {
        "id": "v_e9aQv57yL7"
      }
    },
    {
      "cell_type": "code",
      "source": [],
      "metadata": {
        "id": "lIs10mS670gX"
      },
      "execution_count": null,
      "outputs": []
    },
    {
      "cell_type": "markdown",
      "source": [
        "#### Tâche 3.3 : Graphique de l’évolution des entreprises par année\n",
        "- Créez un graphique linéaire (line chart) montrant l’évolution du nombre d’entreprises créées chaque année.\n",
        "- Ajoutons un **slider interactif** pour permettre à l'utilisateur de filtrer la plage d'années qu'il souhaite visualiser dans le graphique linéaire montrant l'évolution du nombre d'entreprises créées. Le slider permet de définir une plage d'années.\n",
        "- Le graphique linéaire est mis à jour en fonction de la plage d'années sélectionnée, montrant l’évolution du nombre d’entreprises créées sur cette période."
      ],
      "metadata": {
        "id": "AQq_V370707q"
      }
    },
    {
      "cell_type": "code",
      "source": [],
      "metadata": {
        "id": "eQqF1eqU7158"
      },
      "execution_count": null,
      "outputs": []
    },
    {
      "cell_type": "markdown",
      "source": [
        "### **Livrables** :\n",
        "1. Code source des requêtes MongoDB utilisées pour l'extraction et la transformation des données dans un fichier zip incluant : notebook Num-DA_TP2_420-514.ipynb, les fichiers csv créés.\n",
        "2. Les graphiques générés pour visualiser les résultats des analyses.\n",
        "3. Un rapport expliquant les résultats de l'analyse, incluant une interprétation des graphiques.\n",
        "\n",
        "---\n",
        "\n",
        "### **Évaluation** :\n",
        "Le TP sera noté sur la base des critères suivants :\n",
        "- Capacité à extraire les bonnes données de MongoDB (30%).\n",
        "- Capacité à transformer et structurer les données pour obtenir des insights pertinents (30%).\n",
        "- Qualité des visualisations et interprétation des résultats (30%).\n",
        "- Clarté et présentation du rapport final (10%).\n",
        "\n",
        "---\n",
        "\n",
        "### **Instructions supplémentaires** :\n",
        "- Vous pouvez utiliser PyMongo pour interagir avec MongoDB à partir de Python.\n",
        "- Les visualisations doivent être produites avec **Matplotlib**, **Widgets** et **interact** en Python.\n",
        "- Le respect des bonnes pratiques de nommage et de documentation de votre code sera pris en compte.\n",
        "\n",
        "---\n",
        "\n",
        "### **Ressources** :\n",
        "- [Documentation MongoDB](https://docs.mongodb.com/manual/)\n",
        "- [PyMongo - MongoDB pour Python](https://pymongo.readthedocs.io/en/stable/)\n",
        "- [Matplotlib](https://matplotlib.org/stable/users/index.html)\n",
        "- [ineteract](https://ipywidgets.readthedocs.io/en/8.1.5/examples/Using%20Interact.html)\n",
        "- [Widgets](https://ipywidgets.readthedocs.io/en/stable/examples/Widget%20List.html)"
      ],
      "metadata": {
        "id": "qshxqhC61_B9"
      }
    }
  ]
}
